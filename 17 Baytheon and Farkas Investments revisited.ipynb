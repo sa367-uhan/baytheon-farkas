{
 "cells": [
  {
   "cell_type": "markdown",
   "metadata": {},
   "source": [
    "# Baytheon and Farkas Investments, revisited"
   ]
  },
  {
   "cell_type": "markdown",
   "metadata": {},
   "source": [
    "Place any setup code that you need (e.g. `import` statements) in the cell below."
   ]
  },
  {
   "cell_type": "code",
   "execution_count": null,
   "metadata": {
    "collapsed": true
   },
   "outputs": [],
   "source": [
    "from stochasticdp import StochasticDP"
   ]
  },
  {
   "cell_type": "markdown",
   "metadata": {},
   "source": [
    "## Baytheon"
   ]
  },
  {
   "cell_type": "markdown",
   "metadata": {},
   "source": [
    "Baytheon has received an order to supply 2 guided missiles. In order to meet stringent quality requirements, the company may have to manufacture more than one missile to obtain an missile that is acceptable. The company has time to make no more than 3 production runs, and at most 2 missiles can be produced in each run. The probability distribution of acceptable missiles in a given run depends on how many missiles are produced:\n",
    "\n",
    "<table>\n",
    "  <tr>\n",
    "    <td></td>\n",
    "    <td colspan=\"3\"><strong>Probability of acceptable missiles</strong></td>\n",
    "  </tr>\n",
    "  <tr>\n",
    "    <td><strong>Number of missiles produced</strong></td><td><strong>0</strong></td><td><strong>1</strong></td><td><strong>2</strong></td>\n",
    "  </tr>\n",
    "  <tr>\n",
    "    <td>0</td> <td>1  </td> <td>0  </td> <td>0  </td>\n",
    "  </tr>\n",
    "  <tr>\n",
    "    <td>1</td> <td>1/3</td> <td>2/3</td> <td>0  </td>\n",
    "  </tr>\n",
    "  <tr>\n",
    "    <td>2</td> <td>1/4</td> <td>1/2</td> <td>1/4</td>\n",
    "  </tr>\n",
    "</table>\n",
    "    \n",
    "Each missile costs \\$100,000 to produce, and excess missiles are worthless. In addition, a setup cost of \\$50,000 must be incurred whenever the production process is setup for this item. If 2 acceptable missiles have not been obtained by the end of the third production run, Baytheon is in breach of contract and must pay a penalty of \\$1,000,000. The objective is to determine how many missiles to produce in each production run in order to minimize the total expected cost.\n",
    "\n",
    "Once upon a time, for homework, you formulated this problem as a stochastic dynamic program. (Note that the penalty value has changed.)\n",
    "\n",
    "1. Solve your dynamic program using `stochasticdp`.\n",
    "2. Interpret the output of your stochastic dynamic program."
   ]
  },
  {
   "cell_type": "code",
   "execution_count": null,
   "metadata": {
    "collapsed": true
   },
   "outputs": [],
   "source": [
    "# Number of stages\n",
    "number_of_stages = 4\n",
    "\n",
    "# List of states\n",
    "states = [0, 1, 2]\n",
    "\n",
    "# List of decisions\n",
    "decisions = [0, 1, 2]\n",
    "\n",
    "# Initialize stochastic dynamic program\n",
    "dp = StochasticDP(number_of_stages, states, decisions, minimize=True)\n",
    "\n",
    "# Transition probabilities and contributions from state n = 2\n",
    "for t in range(number_of_stages - 1):\n",
    "    # Produce 2\n",
    "    dp.transition[2, 2, t, 2] = 1/4\n",
    "    dp.contribution[2, 2, t, 2] = 50 + 100*2\n",
    "    \n",
    "    dp.transition[1, 2, t, 2] = 1/2\n",
    "    dp.contribution[1, 2, t, 2] = 50 + 100*2\n",
    "    \n",
    "    dp.transition[0, 2, t, 2] = 1/4\n",
    "    dp.contribution[0, 2, t, 2] = 50 + 100*2\n",
    "    \n",
    "    # Produce 1\n",
    "    dp.transition[2, 2, t, 1] = 1/3\n",
    "    dp.contribution[2, 2, t, 1] = 50 * 100*1\n",
    "    \n",
    "    dp.transition[1, 2, t, 1] = 2/3\n",
    "    dp.contribution[2, 2, t, 1] = 50 * 100*1\n",
    "    \n",
    "    # Produce 0\n",
    "    dp.transition[2, 2, t, 0] = 1\n",
    "    dp.contribution[2, 2, t, 0] = 0\n",
    "    \n",
    "# Transition probabilities and contributions from state n = 1\n",
    "for t in range(number_of_stages - 1):\n",
    "    # Produce 2\n",
    "    dp.transition[1, 1, t, 2] = 1/4\n",
    "    dp.contribution[1, 1, t, 2] = 50 + 100*2\n",
    "    \n",
    "    dp.transition[0, 1, t, 2] = 1/2 + 1/4\n",
    "    dp.contribution[0, 1, t, 2] = 50 + 100*2\n",
    "\n",
    "    # Produce 1\n",
    "    dp.transition[1, 1, t, 1] = 1/3\n",
    "    dp.contribution[1, 1, t, 1] = 50 * 100*1\n",
    "    \n",
    "    dp.transition[0, 1, t, 1] = 2/3\n",
    "    dp.contribution[0, 1, t, 1] = 50 * 100*1\n",
    "    \n",
    "    # Produce 0\n",
    "    dp.transition[1, 1, t, 0] = 1\n",
    "    dp.contribution[1, 1, t, 0] = 0\n",
    "\n",
    "# Transition probabilities and contributions from state n = 0\n",
    "for t in range(number_of_stages - 1):\n",
    "    # Produce 2\n",
    "    dp.transition[0, 0, t, 2] = 1\n",
    "    dp.contribution[0, 0, t, 2] = 50 + 100*2\n",
    "    \n",
    "    # Produce 1\n",
    "    dp.transition[0, 0, t, 1] = 1\n",
    "    dp.contribution[0, 0, t, 1] = 50 * 100*1\n",
    "    \n",
    "    # Produce 0\n",
    "    dp.transition[0, 0, t, 0] = 1\n",
    "    dp.contribution[0, 0, t, 0] = 0\n",
    "        \n",
    "# Boundary conditions\n",
    "dp.boundary[0] = 0\n",
    "dp.boundary[1] = 1000\n",
    "dp.boundary[2] = 1000\n",
    "\n",
    "# Solve the stochastic dynamic program\n",
    "value, policy = dp.solve()"
   ]
  },
  {
   "cell_type": "code",
   "execution_count": null,
   "metadata": {
    "collapsed": false
   },
   "outputs": [],
   "source": [
    "# Examine value-to-go\n",
    "value"
   ]
  },
  {
   "cell_type": "code",
   "execution_count": null,
   "metadata": {
    "collapsed": false
   },
   "outputs": [],
   "source": [
    "# Examine policy\n",
    "policy"
   ]
  },
  {
   "cell_type": "markdown",
   "metadata": {},
   "source": [
    "<!-- _Write your notes here. Double-click to edit._ -->\n",
    "* The minimum expected cost is $f_0(2) = 625000$.\n",
    "\n",
    "* The optimal policy is as follows:\n",
    "    - Run 1: Produce 2. We will end up with 2, 1, or 0 missiles needed.\n",
    "    - Run 2: If 1 or 2 missiles are still needed, produce 2. Otherwise produce 0. We will end up with 2, 1, or 0 missiles needed.\n",
    "    - Run 3: If 1 missile is still needed, produce 2. Otherwise produce 0."
   ]
  },
  {
   "cell_type": "markdown",
   "metadata": {},
   "source": [
    "## Farkas Investments"
   ]
  },
  {
   "cell_type": "markdown",
   "metadata": {},
   "source": [
    "You have recently been hired as a junior analyst at Farkas Investments. You have been given \\$4 million to invest over the next 3 years. At the beginning of each of the next 3 years, you can invest in one of two investments: A or B.\n",
    "\n",
    "<table>\n",
    "  <tr>\n",
    "      <td><strong>Investment</strong></td> <td><strong>Cost (\\$ millions)</strong></td> <td><strong>Profit (\\$ millions)</strong></td> <td><strong>Probability</strong></td> \n",
    "  </tr>\n",
    "  <tr>\n",
    "      <td>A                             </td> <td>3                                     </td> <td>2                                       </td> <td>0.5                            </td> \n",
    "  </tr>\n",
    "  <tr>\n",
    "      <td>                              </td> <td>                                      </td> <td>-2                                      </td> <td>0.5                            </td> \n",
    "  </tr>\n",
    "  <tr>\n",
    "      <td>B                             </td> <td>5                                     </td> <td>3                                       </td> <td>0.1                            </td> \n",
    "  </tr>\n",
    "  <tr>\n",
    "      <td>                              </td> <td>                                      </td> <td>-1                                      </td> <td>0.9                            </td> \n",
    "  </tr>\n",
    "</table>\n",
    "\n",
    "You are allowed to make at most one investment each year. Any additional money accumulated is left idle. You may not borrow money to invest; that is, you cannot buy into an investment if it costs more than you currently have.\n",
    "\n",
    "Formulate a stochastic dynamic program to find an investment policy that maximizes the probability you will have at least \\$10 million at the end of 3 years.\n",
    "\n",
    "Once upon a time, for homework, you formulated this problem as a stochastic dynamic program.\n",
    "\n",
    "1. Solve your dynamic program using `stochasticdp`.\n",
    "2. Interpret the output of your stochastic dynamic program."
   ]
  },
  {
   "cell_type": "code",
   "execution_count": null,
   "metadata": {
    "collapsed": true
   },
   "outputs": [],
   "source": [
    "# Number of stages\n",
    "number_of_stages = 4\n",
    "\n",
    "# List of states\n",
    "states = [0, 1, 2, 3, 4, 5, 6, 7, 8, 9, 10]\n",
    "\n",
    "# List of decisions\n",
    "decisions = ['A', 'B', 'no investment']\n",
    "\n",
    "# Initialize stochastic DP\n",
    "dp = StochasticDP(number_of_stages, states, decisions, minimize=False)\n",
    "\n",
    "# Transition probabilities and contributions\n",
    "for t in range(number_of_stages - 1):\n",
    "    for n in states:\n",
    "        # Investment A\n",
    "        if (n >= 3):\n",
    "            dp.transition[min(n + 2, 10), n, t, 'A'] = 0.5\n",
    "            dp.contribution[min(n + 2, 10), n, t, 'A'] = 0\n",
    "\n",
    "            dp.transition[n - 2, n, t, 'A'] = 0.5\n",
    "            dp.contribution[n - 2, n, t, 'A'] = 0\n",
    "        \n",
    "        # Investment B\n",
    "        if (n >= 5):\n",
    "            dp.transition[min(n + 3, 10), n, t, 'B'] = 0.1\n",
    "            dp.contribution[min(n + 3, 10), n, t, 'B'] = 0\n",
    "\n",
    "            dp.transition[n - 1, n, t, 'B'] = 0.9\n",
    "            dp.contribution[n - 1, n, t, 'B'] = 0\n",
    "        \n",
    "        # No investment\n",
    "        dp.transition[n, n, t, 'no investment'] = 1\n",
    "        dp.contribution[n, n, t, 'no investment'] = 0\n",
    "        \n",
    "# Boundary conditions\n",
    "for n in states:\n",
    "    dp.boundary[n] = 0\n",
    "    \n",
    "# Overwrite boundary condition for state n = 10\n",
    "dp.boundary[10] = 1\n",
    "\n",
    "# Solve stochastic DP\n",
    "value, policy = dp.solve()"
   ]
  },
  {
   "cell_type": "code",
   "execution_count": null,
   "metadata": {
    "collapsed": false
   },
   "outputs": [],
   "source": [
    "# Print value-to-go\n",
    "value"
   ]
  },
  {
   "cell_type": "code",
   "execution_count": null,
   "metadata": {
    "collapsed": false,
    "scrolled": false
   },
   "outputs": [],
   "source": [
    "# Print policy\n",
    "policy"
   ]
  },
  {
   "cell_type": "markdown",
   "metadata": {},
   "source": [
    "<!-- _Write your notes here. Double-click to edit._ -->\n",
    "* The maximum probability of reaching \\$10 million is $f_0(4) = 0.125$.\n",
    "\n",
    "* The optimal policy is as follows:\n",
    "    - Year 1: Invest in A. We will end up with either \\$4 or \\$6 million.\n",
    "    - Year 2: Invest in A, regardless of whether we have \\$4 or \\$6 million. We will end up with either \\$2, \\$4, \\$6, or \\$8 million.\n",
    "    - Year 3: If we end up with \\$2 million, don't invest. Otherwise, if we end up with either \\$4, \\$6, or \\$8 million, invest in A."
   ]
  }
 ],
 "metadata": {
  "kernelspec": {
   "display_name": "Python 3",
   "language": "python",
   "name": "python3"
  },
  "language_info": {
   "codemirror_mode": {
    "name": "ipython",
    "version": 3
   },
   "file_extension": ".py",
   "mimetype": "text/x-python",
   "name": "python",
   "nbconvert_exporter": "python",
   "pygments_lexer": "ipython3",
   "version": "3.5.2"
  }
 },
 "nbformat": 4,
 "nbformat_minor": 0
}
