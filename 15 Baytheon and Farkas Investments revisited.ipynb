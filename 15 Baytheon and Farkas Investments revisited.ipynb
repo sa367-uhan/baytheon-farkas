{
 "cells": [
  {
   "cell_type": "markdown",
   "metadata": {},
   "source": [
    "# Baytheon and Farkas Investments, revisited"
   ]
  },
  {
   "cell_type": "markdown",
   "metadata": {},
   "source": [
    "Place any setup code that you need (e.g. `import` statements) in the cell below."
   ]
  },
  {
   "cell_type": "code",
   "execution_count": null,
   "metadata": {},
   "outputs": [],
   "source": []
  },
  {
   "cell_type": "markdown",
   "metadata": {},
   "source": [
    "## Baytheon"
   ]
  },
  {
   "cell_type": "markdown",
   "metadata": {},
   "source": [
    "Baytheon has received an order to supply 2 guided missiles. In order to meet stringent quality requirements, the company may have to manufacture more than one missile to obtain an missile that is acceptable. The company has time to make no more than 3 production runs, and at most 2 missiles can be produced in each run. The probability distribution of acceptable missiles in a given run depends on how many missiles are produced:\n",
    "\n",
    "| Number of missiles produced | Prob. of 0 acceptable missiles | Prob. of 1 acceptable missile | Prob. of 2 acceptable missiles |\n",
    "|-----------------------------|--------------------------------|-------------------------------|--------------------------------| \n",
    "| 0                           | 1                              | 0                             | 0                              |\n",
    "| 1                           | 1/3                            | 2/3                           | 0                              |\n",
    "| 2                           | 1/4                            | 1/2                           | 1/4                            |\n",
    "    \n",
    "Each missile costs \\\\$100,000 to produce, and excess missiles are worthless. In addition, a setup cost of \\\\$50,000 must be incurred whenever the production process is setup for this item. If 2 acceptable missiles have not been obtained by the end of the third production run, Baytheon is in breach of contract and must pay a penalty of \\\\$1,000,000. The objective is to determine how many missiles to produce in each production run in order to minimize the total expected cost.\n",
    "\n",
    "Once upon a time, for homework, you formulated this problem as a stochastic dynamic program. (Note that the penalty value has changed.)\n",
    "\n",
    "1. Solve your dynamic program using `stochasticdp`.\n",
    "2. Interpret the output of your stochastic dynamic program."
   ]
  },
  {
   "cell_type": "code",
   "execution_count": null,
   "metadata": {},
   "outputs": [],
   "source": []
  },
  {
   "cell_type": "markdown",
   "metadata": {},
   "source": [
    "_Write your notes here. Double-click to edit._"
   ]
  },
  {
   "cell_type": "markdown",
   "metadata": {},
   "source": [
    "## Farkas Investments"
   ]
  },
  {
   "cell_type": "markdown",
   "metadata": {},
   "source": [
    "You have recently been hired as a junior analyst at Farkas Investments. You have been given \\$4 million to invest over the next 3 years. At the beginning of each of the next 3 years, you can invest in one of two investments: A or B.\n",
    "\n",
    "| Investment | Cost (\\$ millions) | Profit (\\$ millions) | Probability |\n",
    "|:-----------|:-------------------|:---------------------|:------------|\n",
    "| A          | 3                  | 2                    | 0.5         |\n",
    "|            |                    | -2                   | 0.5         |\n",
    "| B          | 5                  | 3                    | 0.1         |\n",
    "|            |                    | -1                   | 0.9         |\n",
    "\n",
    "You are allowed to make at most one investment each year. Any additional money accumulated is left idle. You may not borrow money to invest; that is, you cannot buy into an investment if it costs more than you currently have.\n",
    "\n",
    "Formulate a stochastic dynamic program to find an investment policy that maximizes the probability you will have at least \\$10 million at the end of 3 years.\n",
    "\n",
    "Once upon a time, for homework, you formulated this problem as a stochastic dynamic program.\n",
    "\n",
    "1. Solve your dynamic program using `stochasticdp`.\n",
    "2. Interpret the output of your stochastic dynamic program."
   ]
  },
  {
   "cell_type": "code",
   "execution_count": null,
   "metadata": {
    "scrolled": false
   },
   "outputs": [],
   "source": []
  },
  {
   "cell_type": "markdown",
   "metadata": {},
   "source": [
    "_Write your notes here. Double-click to edit._"
   ]
  }
 ],
 "metadata": {
  "kernelspec": {
   "display_name": "Python 3",
   "language": "python",
   "name": "python3"
  },
  "language_info": {
   "codemirror_mode": {
    "name": "ipython",
    "version": 3
   },
   "file_extension": ".py",
   "mimetype": "text/x-python",
   "name": "python",
   "nbconvert_exporter": "python",
   "pygments_lexer": "ipython3",
   "version": "3.7.6"
  }
 },
 "nbformat": 4,
 "nbformat_minor": 1
}
